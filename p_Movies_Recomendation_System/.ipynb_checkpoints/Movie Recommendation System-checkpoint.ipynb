{
 "cells": [
  {
   "cell_type": "markdown",
   "id": "4fa0b8ca",
   "metadata": {},
   "source": [
    "##### Source\n",
    "- https://www.kaggle.com/code/padmanabhanporaiyar/imdb-movies-all-types-of-recommender-system\n",
    "- https://www.kaggle.com/code/niharika41298/netflix-visualizations-recommendation-eda\n",
    "- https://www.kaggle.com/code/andreshg/eda-beginner-to-expert-plotly"
   ]
  },
  {
   "cell_type": "code",
   "execution_count": 13,
   "id": "7baa4994",
   "metadata": {},
   "outputs": [],
   "source": [
    "import pandas as pd \n",
    "import numpy as np \n",
    "import seaborn as sns \n",
    "import matplotlib.pyplot as plt\n",
    "#\n",
    "import difflib #filmleri en yakın olanı karşılaştırma için\n",
    "from sklearn.feature_extraction.text import TfidfVectorizer\n",
    "from sklearn.metrics.pairwise import cosine_similarity"
   ]
  },
  {
   "cell_type": "code",
   "execution_count": 3,
   "id": "85bba1a1",
   "metadata": {},
   "outputs": [],
   "source": [
    "df = pd.read_csv(\"movies.csv\")"
   ]
  },
  {
   "cell_type": "code",
   "execution_count": 4,
   "id": "20362272",
   "metadata": {},
   "outputs": [
    {
     "data": {
      "text/html": [
       "<div>\n",
       "<style scoped>\n",
       "    .dataframe tbody tr th:only-of-type {\n",
       "        vertical-align: middle;\n",
       "    }\n",
       "\n",
       "    .dataframe tbody tr th {\n",
       "        vertical-align: top;\n",
       "    }\n",
       "\n",
       "    .dataframe thead th {\n",
       "        text-align: right;\n",
       "    }\n",
       "</style>\n",
       "<table border=\"1\" class=\"dataframe\">\n",
       "  <thead>\n",
       "    <tr style=\"text-align: right;\">\n",
       "      <th></th>\n",
       "      <th>index</th>\n",
       "      <th>budget</th>\n",
       "      <th>genres</th>\n",
       "      <th>homepage</th>\n",
       "      <th>id</th>\n",
       "      <th>keywords</th>\n",
       "      <th>original_language</th>\n",
       "      <th>original_title</th>\n",
       "      <th>overview</th>\n",
       "      <th>popularity</th>\n",
       "      <th>...</th>\n",
       "      <th>runtime</th>\n",
       "      <th>spoken_languages</th>\n",
       "      <th>status</th>\n",
       "      <th>tagline</th>\n",
       "      <th>title</th>\n",
       "      <th>vote_average</th>\n",
       "      <th>vote_count</th>\n",
       "      <th>cast</th>\n",
       "      <th>crew</th>\n",
       "      <th>director</th>\n",
       "    </tr>\n",
       "  </thead>\n",
       "  <tbody>\n",
       "    <tr>\n",
       "      <th>0</th>\n",
       "      <td>0</td>\n",
       "      <td>237000000</td>\n",
       "      <td>Action Adventure Fantasy Science Fiction</td>\n",
       "      <td>http://www.avatarmovie.com/</td>\n",
       "      <td>19995</td>\n",
       "      <td>culture clash future space war space colony so...</td>\n",
       "      <td>en</td>\n",
       "      <td>Avatar</td>\n",
       "      <td>In the 22nd century, a paraplegic Marine is di...</td>\n",
       "      <td>150.437577</td>\n",
       "      <td>...</td>\n",
       "      <td>162.0</td>\n",
       "      <td>[{\"iso_639_1\": \"en\", \"name\": \"English\"}, {\"iso...</td>\n",
       "      <td>Released</td>\n",
       "      <td>Enter the World of Pandora.</td>\n",
       "      <td>Avatar</td>\n",
       "      <td>7.2</td>\n",
       "      <td>11800</td>\n",
       "      <td>Sam Worthington Zoe Saldana Sigourney Weaver S...</td>\n",
       "      <td>[{'name': 'Stephen E. Rivkin', 'gender': 0, 'd...</td>\n",
       "      <td>James Cameron</td>\n",
       "    </tr>\n",
       "    <tr>\n",
       "      <th>1</th>\n",
       "      <td>1</td>\n",
       "      <td>300000000</td>\n",
       "      <td>Adventure Fantasy Action</td>\n",
       "      <td>http://disney.go.com/disneypictures/pirates/</td>\n",
       "      <td>285</td>\n",
       "      <td>ocean drug abuse exotic island east india trad...</td>\n",
       "      <td>en</td>\n",
       "      <td>Pirates of the Caribbean: At World's End</td>\n",
       "      <td>Captain Barbossa, long believed to be dead, ha...</td>\n",
       "      <td>139.082615</td>\n",
       "      <td>...</td>\n",
       "      <td>169.0</td>\n",
       "      <td>[{\"iso_639_1\": \"en\", \"name\": \"English\"}]</td>\n",
       "      <td>Released</td>\n",
       "      <td>At the end of the world, the adventure begins.</td>\n",
       "      <td>Pirates of the Caribbean: At World's End</td>\n",
       "      <td>6.9</td>\n",
       "      <td>4500</td>\n",
       "      <td>Johnny Depp Orlando Bloom Keira Knightley Stel...</td>\n",
       "      <td>[{'name': 'Dariusz Wolski', 'gender': 2, 'depa...</td>\n",
       "      <td>Gore Verbinski</td>\n",
       "    </tr>\n",
       "    <tr>\n",
       "      <th>2</th>\n",
       "      <td>2</td>\n",
       "      <td>245000000</td>\n",
       "      <td>Action Adventure Crime</td>\n",
       "      <td>http://www.sonypictures.com/movies/spectre/</td>\n",
       "      <td>206647</td>\n",
       "      <td>spy based on novel secret agent sequel mi6</td>\n",
       "      <td>en</td>\n",
       "      <td>Spectre</td>\n",
       "      <td>A cryptic message from Bond’s past sends him o...</td>\n",
       "      <td>107.376788</td>\n",
       "      <td>...</td>\n",
       "      <td>148.0</td>\n",
       "      <td>[{\"iso_639_1\": \"fr\", \"name\": \"Fran\\u00e7ais\"},...</td>\n",
       "      <td>Released</td>\n",
       "      <td>A Plan No One Escapes</td>\n",
       "      <td>Spectre</td>\n",
       "      <td>6.3</td>\n",
       "      <td>4466</td>\n",
       "      <td>Daniel Craig Christoph Waltz L\\u00e9a Seydoux ...</td>\n",
       "      <td>[{'name': 'Thomas Newman', 'gender': 2, 'depar...</td>\n",
       "      <td>Sam Mendes</td>\n",
       "    </tr>\n",
       "  </tbody>\n",
       "</table>\n",
       "<p>3 rows × 24 columns</p>\n",
       "</div>"
      ],
      "text/plain": [
       "   index     budget                                    genres  \\\n",
       "0      0  237000000  Action Adventure Fantasy Science Fiction   \n",
       "1      1  300000000                  Adventure Fantasy Action   \n",
       "2      2  245000000                    Action Adventure Crime   \n",
       "\n",
       "                                       homepage      id  \\\n",
       "0                   http://www.avatarmovie.com/   19995   \n",
       "1  http://disney.go.com/disneypictures/pirates/     285   \n",
       "2   http://www.sonypictures.com/movies/spectre/  206647   \n",
       "\n",
       "                                            keywords original_language  \\\n",
       "0  culture clash future space war space colony so...                en   \n",
       "1  ocean drug abuse exotic island east india trad...                en   \n",
       "2         spy based on novel secret agent sequel mi6                en   \n",
       "\n",
       "                             original_title  \\\n",
       "0                                    Avatar   \n",
       "1  Pirates of the Caribbean: At World's End   \n",
       "2                                   Spectre   \n",
       "\n",
       "                                            overview  popularity  ... runtime  \\\n",
       "0  In the 22nd century, a paraplegic Marine is di...  150.437577  ...   162.0   \n",
       "1  Captain Barbossa, long believed to be dead, ha...  139.082615  ...   169.0   \n",
       "2  A cryptic message from Bond’s past sends him o...  107.376788  ...   148.0   \n",
       "\n",
       "                                    spoken_languages    status  \\\n",
       "0  [{\"iso_639_1\": \"en\", \"name\": \"English\"}, {\"iso...  Released   \n",
       "1           [{\"iso_639_1\": \"en\", \"name\": \"English\"}]  Released   \n",
       "2  [{\"iso_639_1\": \"fr\", \"name\": \"Fran\\u00e7ais\"},...  Released   \n",
       "\n",
       "                                          tagline  \\\n",
       "0                     Enter the World of Pandora.   \n",
       "1  At the end of the world, the adventure begins.   \n",
       "2                           A Plan No One Escapes   \n",
       "\n",
       "                                      title vote_average vote_count  \\\n",
       "0                                    Avatar          7.2      11800   \n",
       "1  Pirates of the Caribbean: At World's End          6.9       4500   \n",
       "2                                   Spectre          6.3       4466   \n",
       "\n",
       "                                                cast  \\\n",
       "0  Sam Worthington Zoe Saldana Sigourney Weaver S...   \n",
       "1  Johnny Depp Orlando Bloom Keira Knightley Stel...   \n",
       "2  Daniel Craig Christoph Waltz L\\u00e9a Seydoux ...   \n",
       "\n",
       "                                                crew        director  \n",
       "0  [{'name': 'Stephen E. Rivkin', 'gender': 0, 'd...   James Cameron  \n",
       "1  [{'name': 'Dariusz Wolski', 'gender': 2, 'depa...  Gore Verbinski  \n",
       "2  [{'name': 'Thomas Newman', 'gender': 2, 'depar...      Sam Mendes  \n",
       "\n",
       "[3 rows x 24 columns]"
      ]
     },
     "execution_count": 4,
     "metadata": {},
     "output_type": "execute_result"
    }
   ],
   "source": [
    "df.head(3)"
   ]
  },
  {
   "cell_type": "code",
   "execution_count": 5,
   "id": "fb645c9a",
   "metadata": {},
   "outputs": [
    {
     "data": {
      "text/html": [
       "<div>\n",
       "<style scoped>\n",
       "    .dataframe tbody tr th:only-of-type {\n",
       "        vertical-align: middle;\n",
       "    }\n",
       "\n",
       "    .dataframe tbody tr th {\n",
       "        vertical-align: top;\n",
       "    }\n",
       "\n",
       "    .dataframe thead th {\n",
       "        text-align: right;\n",
       "    }\n",
       "</style>\n",
       "<table border=\"1\" class=\"dataframe\">\n",
       "  <thead>\n",
       "    <tr style=\"text-align: right;\">\n",
       "      <th></th>\n",
       "      <th>index</th>\n",
       "      <th>budget</th>\n",
       "      <th>genres</th>\n",
       "      <th>homepage</th>\n",
       "      <th>id</th>\n",
       "      <th>keywords</th>\n",
       "      <th>original_language</th>\n",
       "      <th>original_title</th>\n",
       "      <th>overview</th>\n",
       "      <th>popularity</th>\n",
       "      <th>...</th>\n",
       "      <th>runtime</th>\n",
       "      <th>spoken_languages</th>\n",
       "      <th>status</th>\n",
       "      <th>tagline</th>\n",
       "      <th>title</th>\n",
       "      <th>vote_average</th>\n",
       "      <th>vote_count</th>\n",
       "      <th>cast</th>\n",
       "      <th>crew</th>\n",
       "      <th>director</th>\n",
       "    </tr>\n",
       "  </thead>\n",
       "  <tbody>\n",
       "    <tr>\n",
       "      <th>4800</th>\n",
       "      <td>4800</td>\n",
       "      <td>0</td>\n",
       "      <td>Comedy Drama Romance TV Movie</td>\n",
       "      <td>http://www.hallmarkchannel.com/signedsealeddel...</td>\n",
       "      <td>231617</td>\n",
       "      <td>date love at first sight narration investigati...</td>\n",
       "      <td>en</td>\n",
       "      <td>Signed, Sealed, Delivered</td>\n",
       "      <td>\"Signed, Sealed, Delivered\" introduces a dedic...</td>\n",
       "      <td>1.444476</td>\n",
       "      <td>...</td>\n",
       "      <td>120.0</td>\n",
       "      <td>[{\"iso_639_1\": \"en\", \"name\": \"English\"}]</td>\n",
       "      <td>Released</td>\n",
       "      <td>NaN</td>\n",
       "      <td>Signed, Sealed, Delivered</td>\n",
       "      <td>7.0</td>\n",
       "      <td>6</td>\n",
       "      <td>Eric Mabius Kristin Booth Crystal Lowe Geoff G...</td>\n",
       "      <td>[{'name': 'Carla Hetland', 'gender': 0, 'depar...</td>\n",
       "      <td>Scott Smith</td>\n",
       "    </tr>\n",
       "    <tr>\n",
       "      <th>4801</th>\n",
       "      <td>4801</td>\n",
       "      <td>0</td>\n",
       "      <td>NaN</td>\n",
       "      <td>http://shanghaicalling.com/</td>\n",
       "      <td>126186</td>\n",
       "      <td>NaN</td>\n",
       "      <td>en</td>\n",
       "      <td>Shanghai Calling</td>\n",
       "      <td>When ambitious New York attorney Sam is sent t...</td>\n",
       "      <td>0.857008</td>\n",
       "      <td>...</td>\n",
       "      <td>98.0</td>\n",
       "      <td>[{\"iso_639_1\": \"en\", \"name\": \"English\"}]</td>\n",
       "      <td>Released</td>\n",
       "      <td>A New Yorker in Shanghai</td>\n",
       "      <td>Shanghai Calling</td>\n",
       "      <td>5.7</td>\n",
       "      <td>7</td>\n",
       "      <td>Daniel Henney Eliza Coupe Bill Paxton Alan Ruc...</td>\n",
       "      <td>[{'name': 'Daniel Hsia', 'gender': 2, 'departm...</td>\n",
       "      <td>Daniel Hsia</td>\n",
       "    </tr>\n",
       "    <tr>\n",
       "      <th>4802</th>\n",
       "      <td>4802</td>\n",
       "      <td>0</td>\n",
       "      <td>Documentary</td>\n",
       "      <td>NaN</td>\n",
       "      <td>25975</td>\n",
       "      <td>obsession camcorder crush dream girl</td>\n",
       "      <td>en</td>\n",
       "      <td>My Date with Drew</td>\n",
       "      <td>Ever since the second grade when he first saw ...</td>\n",
       "      <td>1.929883</td>\n",
       "      <td>...</td>\n",
       "      <td>90.0</td>\n",
       "      <td>[{\"iso_639_1\": \"en\", \"name\": \"English\"}]</td>\n",
       "      <td>Released</td>\n",
       "      <td>NaN</td>\n",
       "      <td>My Date with Drew</td>\n",
       "      <td>6.3</td>\n",
       "      <td>16</td>\n",
       "      <td>Drew Barrymore Brian Herzlinger Corey Feldman ...</td>\n",
       "      <td>[{'name': 'Clark Peterson', 'gender': 2, 'depa...</td>\n",
       "      <td>Brian Herzlinger</td>\n",
       "    </tr>\n",
       "  </tbody>\n",
       "</table>\n",
       "<p>3 rows × 24 columns</p>\n",
       "</div>"
      ],
      "text/plain": [
       "      index  budget                         genres  \\\n",
       "4800   4800       0  Comedy Drama Romance TV Movie   \n",
       "4801   4801       0                            NaN   \n",
       "4802   4802       0                    Documentary   \n",
       "\n",
       "                                               homepage      id  \\\n",
       "4800  http://www.hallmarkchannel.com/signedsealeddel...  231617   \n",
       "4801                        http://shanghaicalling.com/  126186   \n",
       "4802                                                NaN   25975   \n",
       "\n",
       "                                               keywords original_language  \\\n",
       "4800  date love at first sight narration investigati...                en   \n",
       "4801                                                NaN                en   \n",
       "4802               obsession camcorder crush dream girl                en   \n",
       "\n",
       "                 original_title  \\\n",
       "4800  Signed, Sealed, Delivered   \n",
       "4801           Shanghai Calling   \n",
       "4802          My Date with Drew   \n",
       "\n",
       "                                               overview  popularity  ...  \\\n",
       "4800  \"Signed, Sealed, Delivered\" introduces a dedic...    1.444476  ...   \n",
       "4801  When ambitious New York attorney Sam is sent t...    0.857008  ...   \n",
       "4802  Ever since the second grade when he first saw ...    1.929883  ...   \n",
       "\n",
       "     runtime                          spoken_languages    status  \\\n",
       "4800   120.0  [{\"iso_639_1\": \"en\", \"name\": \"English\"}]  Released   \n",
       "4801    98.0  [{\"iso_639_1\": \"en\", \"name\": \"English\"}]  Released   \n",
       "4802    90.0  [{\"iso_639_1\": \"en\", \"name\": \"English\"}]  Released   \n",
       "\n",
       "                       tagline                      title vote_average  \\\n",
       "4800                       NaN  Signed, Sealed, Delivered          7.0   \n",
       "4801  A New Yorker in Shanghai           Shanghai Calling          5.7   \n",
       "4802                       NaN          My Date with Drew          6.3   \n",
       "\n",
       "     vote_count                                               cast  \\\n",
       "4800          6  Eric Mabius Kristin Booth Crystal Lowe Geoff G...   \n",
       "4801          7  Daniel Henney Eliza Coupe Bill Paxton Alan Ruc...   \n",
       "4802         16  Drew Barrymore Brian Herzlinger Corey Feldman ...   \n",
       "\n",
       "                                                   crew          director  \n",
       "4800  [{'name': 'Carla Hetland', 'gender': 0, 'depar...       Scott Smith  \n",
       "4801  [{'name': 'Daniel Hsia', 'gender': 2, 'departm...       Daniel Hsia  \n",
       "4802  [{'name': 'Clark Peterson', 'gender': 2, 'depa...  Brian Herzlinger  \n",
       "\n",
       "[3 rows x 24 columns]"
      ]
     },
     "execution_count": 5,
     "metadata": {},
     "output_type": "execute_result"
    }
   ],
   "source": [
    "df.tail(3)"
   ]
  },
  {
   "cell_type": "code",
   "execution_count": 6,
   "id": "f024f78a",
   "metadata": {},
   "outputs": [
    {
     "data": {
      "text/plain": [
       "index                      0\n",
       "budget                     0\n",
       "genres                    28\n",
       "homepage                3091\n",
       "id                         0\n",
       "keywords                 412\n",
       "original_language          0\n",
       "original_title             0\n",
       "overview                   3\n",
       "popularity                 0\n",
       "production_companies       0\n",
       "production_countries       0\n",
       "release_date               1\n",
       "revenue                    0\n",
       "runtime                    2\n",
       "spoken_languages           0\n",
       "status                     0\n",
       "tagline                  844\n",
       "title                      0\n",
       "vote_average               0\n",
       "vote_count                 0\n",
       "cast                      43\n",
       "crew                       0\n",
       "director                  30\n",
       "dtype: int64"
      ]
     },
     "execution_count": 6,
     "metadata": {},
     "output_type": "execute_result"
    }
   ],
   "source": [
    "df.isnull().sum()"
   ]
  },
  {
   "cell_type": "code",
   "execution_count": 7,
   "id": "d66cf05f",
   "metadata": {},
   "outputs": [
    {
     "data": {
      "text/plain": [
       "(4803, 24)"
      ]
     },
     "execution_count": 7,
     "metadata": {},
     "output_type": "execute_result"
    }
   ],
   "source": [
    "df.shape"
   ]
  },
  {
   "cell_type": "code",
   "execution_count": 17,
   "id": "294d0387",
   "metadata": {},
   "outputs": [
    {
     "name": "stdout",
     "output_type": "stream",
     "text": [
      "['genres', 'keywords', 'tagline', 'cast', 'director']\n"
     ]
    }
   ],
   "source": [
    "selected_item = [\"genres\" ,\"keywords\", \"tagline\" ,\"cast\" , \"director\"]\n",
    "print(selected_item)"
   ]
  },
  {
   "cell_type": "markdown",
   "id": "a4e7ab99",
   "metadata": {},
   "source": [
    "#### missing values"
   ]
  },
  {
   "cell_type": "code",
   "execution_count": 18,
   "id": "dcc2be14",
   "metadata": {},
   "outputs": [],
   "source": [
    "for feature in selected_item:\n",
    "    df[feature] = df[feature].fillna(\"\")"
   ]
  },
  {
   "cell_type": "markdown",
   "id": "7e623baf",
   "metadata": {},
   "source": [
    "##### combining all the  5 selected feature"
   ]
  },
  {
   "cell_type": "code",
   "execution_count": 23,
   "id": "c8ee4010",
   "metadata": {},
   "outputs": [],
   "source": [
    "combined_features = df[\"genres\"]+\" \"+df[\"keywords\"]+\" \"+ df[\"tagline\"]+\" \"+df[\"cast\"]+\" \"+df[\"director\"]"
   ]
  },
  {
   "cell_type": "code",
   "execution_count": 25,
   "id": "f4e55ffb",
   "metadata": {},
   "outputs": [
    {
     "name": "stdout",
     "output_type": "stream",
     "text": [
      "0    Action Adventure Fantasy Science Fiction cultu...\n",
      "1    Adventure Fantasy Action ocean drug abuse exot...\n",
      "2    Action Adventure Crime spy based on novel secr...\n",
      "3    Action Crime Drama Thriller dc comics crime fi...\n",
      "dtype: object\n"
     ]
    }
   ],
   "source": [
    "print(combined_features[0:4])"
   ]
  },
  {
   "cell_type": "markdown",
   "id": "05da9dc1",
   "metadata": {},
   "source": [
    "###### vectorizer"
   ]
  },
  {
   "cell_type": "code",
   "execution_count": 26,
   "id": "766f28d3",
   "metadata": {},
   "outputs": [],
   "source": [
    "vectorizer = TfidfVectorizer()"
   ]
  },
  {
   "cell_type": "code",
   "execution_count": 28,
   "id": "d365e885",
   "metadata": {},
   "outputs": [],
   "source": [
    "feature_vectors = vectorizer.fit_transform(combined_features)"
   ]
  },
  {
   "cell_type": "code",
   "execution_count": 31,
   "id": "3e12a20f",
   "metadata": {},
   "outputs": [
    {
     "name": "stdout",
     "output_type": "stream",
     "text": [
      "  (0, 2432)\t0.17272411194153\n",
      "  (0, 7755)\t0.1128035714854756\n",
      "  (0, 13024)\t0.1942362060108871\n",
      "  (0, 10229)\t0.16058685400095302\n",
      "  (0, 8756)\t0.22709015857011816\n",
      "  (0, 14608)\t0.15150672398763912\n",
      "  (0, 16668)\t0.19843263965100372\n",
      "  (0, 14064)\t0.20596090415084142\n",
      "  (0, 13319)\t0.2177470539412484\n",
      "  (0, 17290)\t0.20197912553916567\n",
      "  (0, 17007)\t0.23643326319898797\n",
      "  (0, 13349)\t0.15021264094167086\n",
      "  (0, 11503)\t0.27211310056983656\n",
      "  (0, 11192)\t0.09049319826481456\n",
      "  (0, 16998)\t0.1282126322850579\n",
      "  (0, 15261)\t0.07095833561276566\n",
      "  (0, 4945)\t0.24025852494110758\n",
      "  (0, 14271)\t0.21392179219912877\n",
      "  (0, 3225)\t0.24960162956997736\n",
      "  (0, 16587)\t0.12549432354918996\n",
      "  (0, 14378)\t0.33962752210959823\n",
      "  (0, 5836)\t0.1646750903586285\n",
      "  (0, 3065)\t0.22208377802661425\n",
      "  (0, 3678)\t0.21392179219912877\n",
      "  (0, 5437)\t0.1036413987316636\n",
      "  (0, 13599)\t0.1036413987316636\n",
      "  (0, 5274)\t0.11108562744414445\n",
      "  (0, 274)\t0.09021200873707368\n",
      "  (0, 201)\t0.07860022416510505\n"
     ]
    }
   ],
   "source": [
    "print(feature_vectors[0:1])"
   ]
  },
  {
   "cell_type": "markdown",
   "id": "78eab4e2",
   "metadata": {},
   "source": [
    "###### cosine similarity"
   ]
  },
  {
   "cell_type": "code",
   "execution_count": 32,
   "id": "96e9c0d3",
   "metadata": {},
   "outputs": [
    {
     "name": "stdout",
     "output_type": "stream",
     "text": [
      "[[1.         0.07219487 0.037733   ... 0.         0.         0.        ]\n",
      " [0.07219487 1.         0.03281499 ... 0.03575545 0.         0.        ]\n",
      " [0.037733   0.03281499 1.         ... 0.         0.05389661 0.        ]\n",
      " ...\n",
      " [0.         0.03575545 0.         ... 1.         0.         0.02651502]\n",
      " [0.         0.         0.05389661 ... 0.         1.         0.        ]\n",
      " [0.         0.         0.         ... 0.02651502 0.         1.        ]]\n"
     ]
    }
   ],
   "source": [
    "similarity = cosine_similarity(feature_vectors)\n",
    "print(similarity)"
   ]
  },
  {
   "cell_type": "code",
   "execution_count": 33,
   "id": "012e2220",
   "metadata": {},
   "outputs": [
    {
     "data": {
      "text/plain": [
       "(4803, 4803)"
      ]
     },
     "execution_count": 33,
     "metadata": {},
     "output_type": "execute_result"
    }
   ],
   "source": [
    "similarity.shape"
   ]
  },
  {
   "cell_type": "markdown",
   "id": "5bec3515",
   "metadata": {},
   "source": [
    "##### input for system"
   ]
  },
  {
   "cell_type": "code",
   "execution_count": 34,
   "id": "53a82ad5",
   "metadata": {},
   "outputs": [
    {
     "name": "stdout",
     "output_type": "stream",
     "text": [
      "Enter your favourite movie name :iron man\n"
     ]
    }
   ],
   "source": [
    "movie_name = input(\"Enter your favourite movie name :\")"
   ]
  },
  {
   "cell_type": "markdown",
   "id": "b5225525",
   "metadata": {},
   "source": [
    "###### tahmin edilecek film listesi"
   ]
  },
  {
   "cell_type": "code",
   "execution_count": 36,
   "id": "488c6f4b",
   "metadata": {},
   "outputs": [
    {
     "name": "stdout",
     "output_type": "stream",
     "text": [
      "['Avatar', \"Pirates of the Caribbean: At World's End\", 'Spectre', 'The Dark Knight Rises', 'John Carter', 'Spider-Man 3', 'Tangled', 'Avengers: Age of Ultron', 'Harry Potter and the Half-Blood Prince', 'Batman v Superman: Dawn of Justice']\n"
     ]
    }
   ],
   "source": [
    "list_of_all_titles = df[\"title\"].tolist()\n",
    "print(list_of_all_titles[0:10])"
   ]
  },
  {
   "cell_type": "markdown",
   "id": "b2a0c249",
   "metadata": {},
   "source": [
    "##### finding the close match"
   ]
  },
  {
   "cell_type": "code",
   "execution_count": 37,
   "id": "2bff1eae",
   "metadata": {},
   "outputs": [
    {
     "name": "stdout",
     "output_type": "stream",
     "text": [
      "['Iron Man', 'Iron Man 3', 'Iron Man 2']\n"
     ]
    }
   ],
   "source": [
    "find_close_match = difflib.get_close_matches(movie_name ,list_of_all_titles )\n",
    "print(find_close_match)"
   ]
  },
  {
   "cell_type": "code",
   "execution_count": 38,
   "id": "6cd86cfa",
   "metadata": {},
   "outputs": [
    {
     "name": "stdout",
     "output_type": "stream",
     "text": [
      "Iron Man\n"
     ]
    }
   ],
   "source": [
    "close_match =find_close_match[0]\n",
    "print(close_match)"
   ]
  },
  {
   "cell_type": "code",
   "execution_count": 41,
   "id": "7351baab",
   "metadata": {},
   "outputs": [
    {
     "name": "stdout",
     "output_type": "stream",
     "text": [
      "68\n"
     ]
    }
   ],
   "source": [
    "index_of_the_movies = df[df.title == close_match][\"index\"].values[0]\n",
    "print(index_of_the_movies)\n",
    "#68  =Iron Man"
   ]
  },
  {
   "cell_type": "code",
   "execution_count": 42,
   "id": "9401e104",
   "metadata": {},
   "outputs": [],
   "source": [
    "similarity_score = list(enumerate(similarity[index_of_the_movies]))"
   ]
  },
  {
   "cell_type": "code",
   "execution_count": 43,
   "id": "076b5809",
   "metadata": {},
   "outputs": [
    {
     "data": {
      "text/plain": [
       "4803"
      ]
     },
     "execution_count": 43,
     "metadata": {},
     "output_type": "execute_result"
    }
   ],
   "source": [
    "len(similarity_score)"
   ]
  },
  {
   "cell_type": "code",
   "execution_count": 45,
   "id": "64f32d86",
   "metadata": {},
   "outputs": [
    {
     "name": "stdout",
     "output_type": "stream",
     "text": [
      "[(0, 0.033570748780675445), (1, 0.0546448279236134), (2, 0.013735500604224323), (3, 0.006468756104392058), (4, 0.03268943310073386), (5, 0.013907256685755473), (6, 0.07692837576335507)]\n"
     ]
    }
   ],
   "source": [
    "sorted_similar_movies = sorted(similarity_score , key=lambda x:x[1] , reverse=True)\n",
    "print(similarity_score[0:7])"
   ]
  },
  {
   "cell_type": "code",
   "execution_count": 47,
   "id": "383d7385",
   "metadata": {},
   "outputs": [
    {
     "name": "stdout",
     "output_type": "stream",
     "text": [
      "1 . Iron Man\n",
      "2 . Iron Man 2\n",
      "3 . Iron Man 3\n",
      "4 . Avengers: Age of Ultron\n",
      "5 . The Avengers\n",
      "6 . Captain America: Civil War\n",
      "7 . Captain America: The Winter Soldier\n",
      "8 . Ant-Man\n",
      "9 . X-Men\n",
      "10 . Made\n",
      "11 . X-Men: Apocalypse\n",
      "12 . X2\n",
      "13 . The Incredible Hulk\n",
      "14 . The Helix... Loaded\n",
      "15 . X-Men: First Class\n",
      "16 . X-Men: Days of Future Past\n",
      "17 . Captain America: The First Avenger\n",
      "18 . Kick-Ass 2\n",
      "19 . Guardians of the Galaxy\n",
      "20 . Deadpool\n",
      "21 . Thor: The Dark World\n",
      "22 . G-Force\n",
      "23 . X-Men: The Last Stand\n",
      "24 . Duets\n",
      "25 . Mortdecai\n",
      "26 . The Last Airbender\n",
      "27 . Southland Tales\n",
      "28 . Zathura: A Space Adventure\n",
      "29 . Sky Captain and the World of Tomorrow\n"
     ]
    }
   ],
   "source": [
    "i = 1 \n",
    "    \n",
    "for movie in sorted_similar_movies:\n",
    "    index=movie[0]\n",
    "    title_from_index = df[df.index==index][\"title\"].values[0]\n",
    "    \n",
    "    if(i<30):\n",
    "        print(i,\".\", title_from_index)\n",
    "        i+=1\n",
    "        "
   ]
  },
  {
   "cell_type": "code",
   "execution_count": 49,
   "id": "0de71e86",
   "metadata": {},
   "outputs": [
    {
     "name": "stdout",
     "output_type": "stream",
     "text": [
      " Enter your favourite movie name : bat man\n",
      "Movies suggested for you : \n",
      "\n",
      "1 . Batman\n",
      "2 . Batman Returns\n",
      "3 . Batman & Robin\n",
      "4 . The Dark Knight Rises\n",
      "5 . Batman Begins\n",
      "6 . The Dark Knight\n",
      "7 . A History of Violence\n",
      "8 . Superman\n",
      "9 . Beetlejuice\n",
      "10 . Bedazzled\n",
      "11 . Mars Attacks!\n",
      "12 . The Sentinel\n",
      "13 . Planet of the Apes\n",
      "14 . Man of Steel\n",
      "15 . Suicide Squad\n",
      "16 . The Mask\n",
      "17 . Salton Sea\n",
      "18 . Spider-Man 3\n",
      "19 . The Postman Always Rings Twice\n",
      "20 . Hang 'em High\n",
      "21 . Spider-Man 2\n",
      "22 . Dungeons & Dragons: Wrath of the Dragon God\n",
      "23 . Superman Returns\n",
      "24 . Jonah Hex\n",
      "25 . Exorcist II: The Heretic\n",
      "26 . Superman II\n",
      "27 . Green Lantern\n",
      "28 . Superman III\n",
      "29 . Something's Gotta Give\n"
     ]
    }
   ],
   "source": [
    "movie_name = input(' Enter your favourite movie name : ')\n",
    "\n",
    "list_of_all_titles = df['title'].tolist()\n",
    "\n",
    "find_close_match = difflib.get_close_matches(movie_name, list_of_all_titles)\n",
    "\n",
    "close_match = find_close_match[0]\n",
    "\n",
    "index_of_the_movie = df[df.title == close_match]['index'].values[0]\n",
    "\n",
    "similarity_score = list(enumerate(similarity[index_of_the_movie]))\n",
    "\n",
    "sorted_similar_movies = sorted(similarity_score, key = lambda x:x[1], reverse = True) \n",
    "\n",
    "print('Movies suggested for you : \\n')\n",
    "\n",
    "i = 1\n",
    "\n",
    "for movie in sorted_similar_movies:\n",
    "  index = movie[0]\n",
    "  title_from_index = df[df.index==index]['title'].values[0]\n",
    "  if (i<30):\n",
    "    print(i, '.',title_from_index)\n",
    "    i+=1"
   ]
  },
  {
   "cell_type": "code",
   "execution_count": null,
   "id": "42ef7b80",
   "metadata": {},
   "outputs": [],
   "source": []
  }
 ],
 "metadata": {
  "kernelspec": {
   "display_name": "Python 3",
   "language": "python",
   "name": "python3"
  },
  "language_info": {
   "codemirror_mode": {
    "name": "ipython",
    "version": 3
   },
   "file_extension": ".py",
   "mimetype": "text/x-python",
   "name": "python",
   "nbconvert_exporter": "python",
   "pygments_lexer": "ipython3",
   "version": "3.8.8"
  }
 },
 "nbformat": 4,
 "nbformat_minor": 5
}
