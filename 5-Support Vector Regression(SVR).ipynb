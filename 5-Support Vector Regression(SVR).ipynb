{
 "cells": [
  {
   "cell_type": "code",
   "execution_count": 10,
   "id": "fa1e4182",
   "metadata": {},
   "outputs": [
    {
     "data": {
      "text/html": [
       "<div>\n",
       "<style scoped>\n",
       "    .dataframe tbody tr th:only-of-type {\n",
       "        vertical-align: middle;\n",
       "    }\n",
       "\n",
       "    .dataframe tbody tr th {\n",
       "        vertical-align: top;\n",
       "    }\n",
       "\n",
       "    .dataframe thead th {\n",
       "        text-align: right;\n",
       "    }\n",
       "</style>\n",
       "<table border=\"1\" class=\"dataframe\">\n",
       "  <thead>\n",
       "    <tr style=\"text-align: right;\">\n",
       "      <th></th>\n",
       "      <th>unvan</th>\n",
       "      <th>Egitim Seviyesi</th>\n",
       "      <th>maas</th>\n",
       "    </tr>\n",
       "  </thead>\n",
       "  <tbody>\n",
       "    <tr>\n",
       "      <th>0</th>\n",
       "      <td>Cayci</td>\n",
       "      <td>1</td>\n",
       "      <td>2250</td>\n",
       "    </tr>\n",
       "    <tr>\n",
       "      <th>1</th>\n",
       "      <td>Sekreter</td>\n",
       "      <td>2</td>\n",
       "      <td>2500</td>\n",
       "    </tr>\n",
       "    <tr>\n",
       "      <th>2</th>\n",
       "      <td>Uzman Yardimcisi</td>\n",
       "      <td>3</td>\n",
       "      <td>3000</td>\n",
       "    </tr>\n",
       "    <tr>\n",
       "      <th>3</th>\n",
       "      <td>Uzman</td>\n",
       "      <td>4</td>\n",
       "      <td>4000</td>\n",
       "    </tr>\n",
       "    <tr>\n",
       "      <th>4</th>\n",
       "      <td>Proje Yoneticisi</td>\n",
       "      <td>5</td>\n",
       "      <td>5500</td>\n",
       "    </tr>\n",
       "    <tr>\n",
       "      <th>5</th>\n",
       "      <td>Sef</td>\n",
       "      <td>6</td>\n",
       "      <td>7500</td>\n",
       "    </tr>\n",
       "    <tr>\n",
       "      <th>6</th>\n",
       "      <td>Mudur</td>\n",
       "      <td>7</td>\n",
       "      <td>10000</td>\n",
       "    </tr>\n",
       "    <tr>\n",
       "      <th>7</th>\n",
       "      <td>Direktor</td>\n",
       "      <td>8</td>\n",
       "      <td>15000</td>\n",
       "    </tr>\n",
       "    <tr>\n",
       "      <th>8</th>\n",
       "      <td>C-level</td>\n",
       "      <td>9</td>\n",
       "      <td>25000</td>\n",
       "    </tr>\n",
       "    <tr>\n",
       "      <th>9</th>\n",
       "      <td>CEO</td>\n",
       "      <td>10</td>\n",
       "      <td>50000</td>\n",
       "    </tr>\n",
       "  </tbody>\n",
       "</table>\n",
       "</div>"
      ],
      "text/plain": [
       "              unvan  Egitim Seviyesi   maas\n",
       "0             Cayci                1   2250\n",
       "1          Sekreter                2   2500\n",
       "2  Uzman Yardimcisi                3   3000\n",
       "3             Uzman                4   4000\n",
       "4  Proje Yoneticisi                5   5500\n",
       "5               Sef                6   7500\n",
       "6             Mudur                7  10000\n",
       "7          Direktor                8  15000\n",
       "8           C-level                9  25000\n",
       "9               CEO               10  50000"
      ]
     },
     "execution_count": 10,
     "metadata": {},
     "output_type": "execute_result"
    }
   ],
   "source": [
    "import pandas as pd\n",
    "import numpy as np \n",
    "import matplotlib.pyplot as plt\n",
    "\n",
    "veriler=pd.read_csv(\"maaslar.csv\")\n",
    "veriler"
   ]
  },
  {
   "cell_type": "code",
   "execution_count": 11,
   "id": "f1e77612",
   "metadata": {},
   "outputs": [],
   "source": [
    "x=veriler.iloc[:,1:2]\n",
    "y=veriler.iloc[:,2:]\n",
    "X=x.values\n",
    "Y=y.values"
   ]
  },
  {
   "cell_type": "code",
   "execution_count": 12,
   "id": "183c12df",
   "metadata": {},
   "outputs": [
    {
     "data": {
      "text/plain": [
       "array([[ 1],\n",
       "       [ 2],\n",
       "       [ 3],\n",
       "       [ 4],\n",
       "       [ 5],\n",
       "       [ 6],\n",
       "       [ 7],\n",
       "       [ 8],\n",
       "       [ 9],\n",
       "       [10]], dtype=int64)"
      ]
     },
     "execution_count": 12,
     "metadata": {},
     "output_type": "execute_result"
    }
   ],
   "source": [
    "X"
   ]
  },
  {
   "cell_type": "code",
   "execution_count": 13,
   "id": "b5a45f2c",
   "metadata": {},
   "outputs": [
    {
     "data": {
      "text/plain": [
       "array([[ 2250],\n",
       "       [ 2500],\n",
       "       [ 3000],\n",
       "       [ 4000],\n",
       "       [ 5500],\n",
       "       [ 7500],\n",
       "       [10000],\n",
       "       [15000],\n",
       "       [25000],\n",
       "       [50000]], dtype=int64)"
      ]
     },
     "execution_count": 13,
     "metadata": {},
     "output_type": "execute_result"
    }
   ],
   "source": [
    "Y"
   ]
  },
  {
   "cell_type": "code",
   "execution_count": 14,
   "id": "2daffbec",
   "metadata": {},
   "outputs": [],
   "source": [
    "#standart scale islemi\n",
    "from sklearn.preprocessing import StandardScaler\n",
    "\n",
    "sc1=StandardScaler()\n",
    "x_olcekli= sc1.fit_transform(X)\n",
    "\n",
    "sc2=StandardScaler()\n",
    "y_olcekli= np.ravel(sc2.fit_transform(Y.reshape(-1,1)))"
   ]
  },
  {
   "cell_type": "code",
   "execution_count": 15,
   "id": "70504097",
   "metadata": {},
   "outputs": [
    {
     "data": {
      "text/plain": [
       "SVR()"
      ]
     },
     "execution_count": 15,
     "metadata": {},
     "output_type": "execute_result"
    }
   ],
   "source": [
    "from sklearn.svm import SVR\n",
    "\n",
    "regressor = SVR(kernel = 'rbf')\n",
    "regressor.fit(x_olcekli,y_olcekli)"
   ]
  },
  {
   "cell_type": "code",
   "execution_count": 16,
   "id": "4778da86",
   "metadata": {},
   "outputs": [
    {
     "data": {
      "text/plain": [
       "[<matplotlib.lines.Line2D at 0x28c51fa0970>]"
      ]
     },
     "execution_count": 16,
     "metadata": {},
     "output_type": "execute_result"
    },
    {
     "data": {
      "image/png": "[encoded data removed]",
      "text/plain": [
       "<Figure size 432x288 with 1 Axes>"
      ]
     },
     "metadata": {
      "needs_background": "light"
     },
     "output_type": "display_data"
    }
   ],
   "source": [
    "plt.plot(x_olcekli,y_olcekli,\"*\")\n",
    "plt.plot(x_olcekli,regressor.predict(x_olcekli))"
   ]
  }
 ],
 "metadata": {
  "kernelspec": {
   "display_name": "Python 3",
   "language": "python",
   "name": "python3"
  },
  "language_info": {
   "codemirror_mode": {
    "name": "ipython",
    "version": 3
   },
   "file_extension": ".py",
   "mimetype": "text/x-python",
   "name": "python",
   "nbconvert_exporter": "python",
   "pygments_lexer": "ipython3",
   "version": "3.8.8"
  }
 },
 "nbformat": 4,
 "nbformat_minor": 5
}
