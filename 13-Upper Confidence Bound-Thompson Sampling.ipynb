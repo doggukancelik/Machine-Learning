{
 "cells": [
  {
   "cell_type": "code",
   "execution_count": 27,
   "id": "6cff926e",
   "metadata": {},
   "outputs": [
    {
     "data": {
      "text/html": [
       "<div>\n",
       "<style scoped>\n",
       "    .dataframe tbody tr th:only-of-type {\n",
       "        vertical-align: middle;\n",
       "    }\n",
       "\n",
       "    .dataframe tbody tr th {\n",
       "        vertical-align: top;\n",
       "    }\n",
       "\n",
       "    .dataframe thead th {\n",
       "        text-align: right;\n",
       "    }\n",
       "</style>\n",
       "<table border=\"1\" class=\"dataframe\">\n",
       "  <thead>\n",
       "    <tr style=\"text-align: right;\">\n",
       "      <th></th>\n",
       "      <th>Ad 1</th>\n",
       "      <th>Ad 2</th>\n",
       "      <th>Ad 3</th>\n",
       "      <th>Ad 4</th>\n",
       "      <th>Ad 5</th>\n",
       "      <th>Ad 6</th>\n",
       "      <th>Ad 7</th>\n",
       "      <th>Ad 8</th>\n",
       "      <th>Ad 9</th>\n",
       "      <th>Ad 10</th>\n",
       "    </tr>\n",
       "  </thead>\n",
       "  <tbody>\n",
       "    <tr>\n",
       "      <th>0</th>\n",
       "      <td>1</td>\n",
       "      <td>0</td>\n",
       "      <td>0</td>\n",
       "      <td>0</td>\n",
       "      <td>1</td>\n",
       "      <td>0</td>\n",
       "      <td>0</td>\n",
       "      <td>0</td>\n",
       "      <td>1</td>\n",
       "      <td>0</td>\n",
       "    </tr>\n",
       "    <tr>\n",
       "      <th>1</th>\n",
       "      <td>0</td>\n",
       "      <td>0</td>\n",
       "      <td>0</td>\n",
       "      <td>0</td>\n",
       "      <td>0</td>\n",
       "      <td>0</td>\n",
       "      <td>0</td>\n",
       "      <td>0</td>\n",
       "      <td>1</td>\n",
       "      <td>0</td>\n",
       "    </tr>\n",
       "    <tr>\n",
       "      <th>2</th>\n",
       "      <td>0</td>\n",
       "      <td>0</td>\n",
       "      <td>0</td>\n",
       "      <td>0</td>\n",
       "      <td>0</td>\n",
       "      <td>0</td>\n",
       "      <td>0</td>\n",
       "      <td>0</td>\n",
       "      <td>0</td>\n",
       "      <td>0</td>\n",
       "    </tr>\n",
       "    <tr>\n",
       "      <th>3</th>\n",
       "      <td>0</td>\n",
       "      <td>1</td>\n",
       "      <td>0</td>\n",
       "      <td>0</td>\n",
       "      <td>0</td>\n",
       "      <td>0</td>\n",
       "      <td>0</td>\n",
       "      <td>1</td>\n",
       "      <td>0</td>\n",
       "      <td>0</td>\n",
       "    </tr>\n",
       "    <tr>\n",
       "      <th>4</th>\n",
       "      <td>0</td>\n",
       "      <td>0</td>\n",
       "      <td>0</td>\n",
       "      <td>0</td>\n",
       "      <td>0</td>\n",
       "      <td>0</td>\n",
       "      <td>0</td>\n",
       "      <td>0</td>\n",
       "      <td>0</td>\n",
       "      <td>0</td>\n",
       "    </tr>\n",
       "    <tr>\n",
       "      <th>...</th>\n",
       "      <td>...</td>\n",
       "      <td>...</td>\n",
       "      <td>...</td>\n",
       "      <td>...</td>\n",
       "      <td>...</td>\n",
       "      <td>...</td>\n",
       "      <td>...</td>\n",
       "      <td>...</td>\n",
       "      <td>...</td>\n",
       "      <td>...</td>\n",
       "    </tr>\n",
       "    <tr>\n",
       "      <th>9995</th>\n",
       "      <td>0</td>\n",
       "      <td>0</td>\n",
       "      <td>1</td>\n",
       "      <td>0</td>\n",
       "      <td>0</td>\n",
       "      <td>0</td>\n",
       "      <td>0</td>\n",
       "      <td>1</td>\n",
       "      <td>0</td>\n",
       "      <td>0</td>\n",
       "    </tr>\n",
       "    <tr>\n",
       "      <th>9996</th>\n",
       "      <td>0</td>\n",
       "      <td>0</td>\n",
       "      <td>0</td>\n",
       "      <td>0</td>\n",
       "      <td>0</td>\n",
       "      <td>0</td>\n",
       "      <td>0</td>\n",
       "      <td>0</td>\n",
       "      <td>0</td>\n",
       "      <td>0</td>\n",
       "    </tr>\n",
       "    <tr>\n",
       "      <th>9997</th>\n",
       "      <td>0</td>\n",
       "      <td>0</td>\n",
       "      <td>0</td>\n",
       "      <td>0</td>\n",
       "      <td>0</td>\n",
       "      <td>0</td>\n",
       "      <td>0</td>\n",
       "      <td>0</td>\n",
       "      <td>0</td>\n",
       "      <td>0</td>\n",
       "    </tr>\n",
       "    <tr>\n",
       "      <th>9998</th>\n",
       "      <td>1</td>\n",
       "      <td>0</td>\n",
       "      <td>0</td>\n",
       "      <td>0</td>\n",
       "      <td>0</td>\n",
       "      <td>0</td>\n",
       "      <td>0</td>\n",
       "      <td>1</td>\n",
       "      <td>0</td>\n",
       "      <td>0</td>\n",
       "    </tr>\n",
       "    <tr>\n",
       "      <th>9999</th>\n",
       "      <td>0</td>\n",
       "      <td>1</td>\n",
       "      <td>0</td>\n",
       "      <td>0</td>\n",
       "      <td>0</td>\n",
       "      <td>0</td>\n",
       "      <td>0</td>\n",
       "      <td>0</td>\n",
       "      <td>0</td>\n",
       "      <td>0</td>\n",
       "    </tr>\n",
       "  </tbody>\n",
       "</table>\n",
       "<p>10000 rows × 10 columns</p>\n",
       "</div>"
      ],
      "text/plain": [
       "      Ad 1  Ad 2  Ad 3  Ad 4  Ad 5  Ad 6  Ad 7  Ad 8  Ad 9  Ad 10\n",
       "0        1     0     0     0     1     0     0     0     1      0\n",
       "1        0     0     0     0     0     0     0     0     1      0\n",
       "2        0     0     0     0     0     0     0     0     0      0\n",
       "3        0     1     0     0     0     0     0     1     0      0\n",
       "4        0     0     0     0     0     0     0     0     0      0\n",
       "...    ...   ...   ...   ...   ...   ...   ...   ...   ...    ...\n",
       "9995     0     0     1     0     0     0     0     1     0      0\n",
       "9996     0     0     0     0     0     0     0     0     0      0\n",
       "9997     0     0     0     0     0     0     0     0     0      0\n",
       "9998     1     0     0     0     0     0     0     1     0      0\n",
       "9999     0     1     0     0     0     0     0     0     0      0\n",
       "\n",
       "[10000 rows x 10 columns]"
      ]
     },
     "execution_count": 27,
     "metadata": {},
     "output_type": "execute_result"
    }
   ],
   "source": [
    "import pandas as pd\n",
    "import numpy as np \n",
    "import matplotlib.pyplot as plt\n",
    "\n",
    "veriler=pd.read_csv(\"Ads_CTR_Optimisation.csv\")\n",
    "veriler"
   ]
  },
  {
   "cell_type": "markdown",
   "id": "cf85dc63",
   "metadata": {},
   "source": [
    "netflix reklamları"
   ]
  },
  {
   "cell_type": "markdown",
   "id": "205cf39f",
   "metadata": {},
   "source": [
    "# Random Selection"
   ]
  },
  {
   "cell_type": "code",
   "execution_count": 28,
   "id": "e8985d76",
   "metadata": {},
   "outputs": [
    {
     "data": {
      "text/plain": [
       "(array([ 951., 1060., 1062.,  963.,  980., 1007.,  982.,  965., 1049.,\n",
       "         981.]),\n",
       " array([0. , 0.9, 1.8, 2.7, 3.6, 4.5, 5.4, 6.3, 7.2, 8.1, 9. ]),\n",
       " <BarContainer object of 10 artists>)"
      ]
     },
     "execution_count": 28,
     "metadata": {},
     "output_type": "execute_result"
    },
    {
     "data": {
      "image/png": "[encoded data removed]",
      "text/plain": [
       "<Figure size 432x288 with 1 Axes>"
      ]
     },
     "metadata": {
      "needs_background": "light"
     },
     "output_type": "display_data"
    }
   ],
   "source": [
    "import random\n",
    "toplam=0\n",
    "N=10000\n",
    "d=10\n",
    "secilenler=[]\n",
    "\n",
    "\n",
    "for n in range(0,N):\n",
    "    ad=random.randrange(d)\n",
    "    secilenler.append(ad)\n",
    "    odul=veriler.values[n,ad]\n",
    "    toplam=toplam+odul\n",
    "plt.hist(secilenler)"
   ]
  },
  {
   "cell_type": "code",
   "execution_count": 29,
   "id": "36b5412e",
   "metadata": {},
   "outputs": [
    {
     "data": {
      "text/plain": [
       "1254"
      ]
     },
     "execution_count": 29,
     "metadata": {},
     "output_type": "execute_result"
    }
   ],
   "source": [
    "toplam"
   ]
  },
  {
   "cell_type": "markdown",
   "id": "5f82883c",
   "metadata": {},
   "source": [
    "# UCB"
   ]
  },
  {
   "cell_type": "code",
   "execution_count": 30,
   "id": "697d420d",
   "metadata": {},
   "outputs": [
    {
     "data": {
      "text/plain": [
       "2231"
      ]
     },
     "execution_count": 30,
     "metadata": {},
     "output_type": "execute_result"
    }
   ],
   "source": [
    "import math\n",
    "toplam=0 #toplam odeul\n",
    "N=10000 #10k tıklama\n",
    "d=10 #toplam 10 ilan var\n",
    "oduller=[0]*d #ilk basta butun ilanlar odeulu 0 \n",
    "tiklamalar=[0]*d\n",
    "secilenler=[0]\n",
    "\n",
    "for n in range(1,N):\n",
    "    ad=0 #secilen ilan\n",
    "    max_ucb=0\n",
    "    for i in range(0,d):\n",
    "        if(tiklamalar[i]>0):\n",
    "            ortalama=oduller[i]/tiklamalar[i]\n",
    "            delta=math.sqrt(3/2*math.log(n)/tiklamalar[i])\n",
    "            ucb=ortalama+delta\n",
    "        else:\n",
    "            ucb=N*10\n",
    "        if max_ucb<ucb: #maxtan buyuk bir ucb cıkarsa\n",
    "            max_ucb=ucb\n",
    "            ad=i\n",
    "            \n",
    "    secilenler.append(ad)\n",
    "    tiklamalar[ad]=tiklamalar[ad]+1\n",
    "    odul=veriler.values[n,ad]\n",
    "    oduller[ad]=oduller[ad]+odul\n",
    "    toplam=toplam+odul\n",
    "toplam"
   ]
  },
  {
   "cell_type": "code",
   "execution_count": 31,
   "id": "2f962367",
   "metadata": {},
   "outputs": [
    {
     "data": {
      "text/plain": [
       "(array([ 530.,  372.,  253.,  394., 6187.,  144.,  283., 1320.,  321.,\n",
       "         196.]),\n",
       " array([0. , 0.9, 1.8, 2.7, 3.6, 4.5, 5.4, 6.3, 7.2, 8.1, 9. ]),\n",
       " <BarContainer object of 10 artists>)"
      ]
     },
     "execution_count": 31,
     "metadata": {},
     "output_type": "execute_result"
    },
    {
     "data": {
      "image/png": "[encoded data removed]",
      "text/plain": [
       "<Figure size 432x288 with 1 Axes>"
      ]
     },
     "metadata": {
      "needs_background": "light"
     },
     "output_type": "display_data"
    }
   ],
   "source": [
    "plt.hist(secilenler)"
   ]
  },
  {
   "cell_type": "code",
   "execution_count": 33,
   "id": "9f15b79f",
   "metadata": {},
   "outputs": [],
   "source": [
    "#ucb randomdan çok iyi-eğitimli halidir."
   ]
  },
  {
   "cell_type": "markdown",
   "id": "2bc27e29",
   "metadata": {},
   "source": [
    "# Thompson"
   ]
  },
  {
   "cell_type": "code",
   "execution_count": 34,
   "id": "30279ec7",
   "metadata": {},
   "outputs": [
    {
     "data": {
      "text/plain": [
       "2623"
      ]
     },
     "execution_count": 34,
     "metadata": {},
     "output_type": "execute_result"
    }
   ],
   "source": [
    "import math\n",
    "toplam=0 #toplam odeul\n",
    "N=10000 #10k tıklama\n",
    "d=10 #toplam 10 ilan var\n",
    "secilenler=[]\n",
    "birler=[0]*d\n",
    "sifirlar=[0]*d\n",
    "\n",
    "for n in range(1,N):\n",
    "    ad=0 #secilen ilan\n",
    "    max_th=0\n",
    "    for i in range(0,d):\n",
    "        rastgeleBeta=random.betavariate(birler[i]+1,sifirlar[i]+1)\n",
    "        if(rastgeleBeta>max_th):\n",
    "            max_th=rastgeleBeta\n",
    "            ad=i\n",
    "            \n",
    "    secilenler.append(ad)\n",
    "    odul=veriler.values[n,ad]\n",
    "    if odul==1:\n",
    "        birler[ad]=birler[ad]+1\n",
    "    else:\n",
    "        sifirlar[ad]=sifirlar[ad]+1\n",
    "    oduller[ad]=oduller[ad]+odul\n",
    "    toplam=toplam+odul\n",
    "toplam"
   ]
  },
  {
   "cell_type": "code",
   "execution_count": 35,
   "id": "fe103359",
   "metadata": {},
   "outputs": [
    {
     "data": {
      "text/plain": [
       "(array([ 150.,   43.,   32.,  130., 9491.,   26.,   37.,   23.,   40.,\n",
       "          27.]),\n",
       " array([0. , 0.9, 1.8, 2.7, 3.6, 4.5, 5.4, 6.3, 7.2, 8.1, 9. ]),\n",
       " <BarContainer object of 10 artists>)"
      ]
     },
     "execution_count": 35,
     "metadata": {},
     "output_type": "execute_result"
    },
    {
     "data": {
      "image/png": "[encoded data removed]",
      "text/plain": [
       "<Figure size 432x288 with 1 Axes>"
      ]
     },
     "metadata": {
      "needs_background": "light"
     },
     "output_type": "display_data"
    }
   ],
   "source": [
    "plt.hist(secilenler)"
   ]
  },
  {
   "cell_type": "code",
   "execution_count": null,
   "id": "9fd398bf",
   "metadata": {},
   "outputs": [],
   "source": [
    "#bu ornekte thompsan>ucb>random"
   ]
  }
 ],
 "metadata": {
  "kernelspec": {
   "display_name": "Python 3",
   "language": "python",
   "name": "python3"
  },
  "language_info": {
   "codemirror_mode": {
    "name": "ipython",
    "version": 3
   },
   "file_extension": ".py",
   "mimetype": "text/x-python",
   "name": "python",
   "nbconvert_exporter": "python",
   "pygments_lexer": "ipython3",
   "version": "3.8.8"
  }
 },
 "nbformat": 4,
 "nbformat_minor": 5
}
