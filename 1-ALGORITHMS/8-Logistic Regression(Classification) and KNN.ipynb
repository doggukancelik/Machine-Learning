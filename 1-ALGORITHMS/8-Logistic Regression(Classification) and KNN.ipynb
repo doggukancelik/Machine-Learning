{
 "cells": [
  {
   "cell_type": "code",
   "execution_count": 3,
   "id": "38eae1d1",
   "metadata": {},
   "outputs": [],
   "source": [
    "import pandas as pd\n",
    "import numpy as np \n",
    "import matplotlib.pyplot as plt\n",
    "\n",
    "veriler=pd.read_csv(\"veriler.csv\")"
   ]
  },
  {
   "cell_type": "code",
   "execution_count": 4,
   "id": "3bc550e8",
   "metadata": {},
   "outputs": [
    {
     "data": {
      "text/html": [
       "<div>\n",
       "<style scoped>\n",
       "    .dataframe tbody tr th:only-of-type {\n",
       "        vertical-align: middle;\n",
       "    }\n",
       "\n",
       "    .dataframe tbody tr th {\n",
       "        vertical-align: top;\n",
       "    }\n",
       "\n",
       "    .dataframe thead th {\n",
       "        text-align: right;\n",
       "    }\n",
       "</style>\n",
       "<table border=\"1\" class=\"dataframe\">\n",
       "  <thead>\n",
       "    <tr style=\"text-align: right;\">\n",
       "      <th></th>\n",
       "      <th>ulke</th>\n",
       "      <th>boy</th>\n",
       "      <th>kilo</th>\n",
       "      <th>yas</th>\n",
       "      <th>cinsiyet</th>\n",
       "    </tr>\n",
       "  </thead>\n",
       "  <tbody>\n",
       "    <tr>\n",
       "      <th>0</th>\n",
       "      <td>tr</td>\n",
       "      <td>130</td>\n",
       "      <td>30</td>\n",
       "      <td>10</td>\n",
       "      <td>e</td>\n",
       "    </tr>\n",
       "    <tr>\n",
       "      <th>1</th>\n",
       "      <td>tr</td>\n",
       "      <td>125</td>\n",
       "      <td>36</td>\n",
       "      <td>11</td>\n",
       "      <td>e</td>\n",
       "    </tr>\n",
       "    <tr>\n",
       "      <th>2</th>\n",
       "      <td>tr</td>\n",
       "      <td>135</td>\n",
       "      <td>34</td>\n",
       "      <td>10</td>\n",
       "      <td>k</td>\n",
       "    </tr>\n",
       "    <tr>\n",
       "      <th>3</th>\n",
       "      <td>tr</td>\n",
       "      <td>133</td>\n",
       "      <td>30</td>\n",
       "      <td>9</td>\n",
       "      <td>k</td>\n",
       "    </tr>\n",
       "    <tr>\n",
       "      <th>4</th>\n",
       "      <td>tr</td>\n",
       "      <td>129</td>\n",
       "      <td>38</td>\n",
       "      <td>12</td>\n",
       "      <td>e</td>\n",
       "    </tr>\n",
       "    <tr>\n",
       "      <th>5</th>\n",
       "      <td>tr</td>\n",
       "      <td>180</td>\n",
       "      <td>90</td>\n",
       "      <td>30</td>\n",
       "      <td>e</td>\n",
       "    </tr>\n",
       "    <tr>\n",
       "      <th>6</th>\n",
       "      <td>tr</td>\n",
       "      <td>190</td>\n",
       "      <td>80</td>\n",
       "      <td>25</td>\n",
       "      <td>e</td>\n",
       "    </tr>\n",
       "    <tr>\n",
       "      <th>7</th>\n",
       "      <td>tr</td>\n",
       "      <td>175</td>\n",
       "      <td>90</td>\n",
       "      <td>35</td>\n",
       "      <td>e</td>\n",
       "    </tr>\n",
       "    <tr>\n",
       "      <th>8</th>\n",
       "      <td>tr</td>\n",
       "      <td>177</td>\n",
       "      <td>60</td>\n",
       "      <td>22</td>\n",
       "      <td>k</td>\n",
       "    </tr>\n",
       "    <tr>\n",
       "      <th>9</th>\n",
       "      <td>us</td>\n",
       "      <td>185</td>\n",
       "      <td>105</td>\n",
       "      <td>33</td>\n",
       "      <td>e</td>\n",
       "    </tr>\n",
       "    <tr>\n",
       "      <th>10</th>\n",
       "      <td>us</td>\n",
       "      <td>165</td>\n",
       "      <td>55</td>\n",
       "      <td>27</td>\n",
       "      <td>k</td>\n",
       "    </tr>\n",
       "    <tr>\n",
       "      <th>11</th>\n",
       "      <td>us</td>\n",
       "      <td>155</td>\n",
       "      <td>50</td>\n",
       "      <td>44</td>\n",
       "      <td>k</td>\n",
       "    </tr>\n",
       "    <tr>\n",
       "      <th>12</th>\n",
       "      <td>us</td>\n",
       "      <td>160</td>\n",
       "      <td>58</td>\n",
       "      <td>39</td>\n",
       "      <td>k</td>\n",
       "    </tr>\n",
       "    <tr>\n",
       "      <th>13</th>\n",
       "      <td>us</td>\n",
       "      <td>162</td>\n",
       "      <td>59</td>\n",
       "      <td>41</td>\n",
       "      <td>k</td>\n",
       "    </tr>\n",
       "    <tr>\n",
       "      <th>14</th>\n",
       "      <td>us</td>\n",
       "      <td>167</td>\n",
       "      <td>62</td>\n",
       "      <td>55</td>\n",
       "      <td>k</td>\n",
       "    </tr>\n",
       "    <tr>\n",
       "      <th>15</th>\n",
       "      <td>fr</td>\n",
       "      <td>174</td>\n",
       "      <td>70</td>\n",
       "      <td>47</td>\n",
       "      <td>e</td>\n",
       "    </tr>\n",
       "    <tr>\n",
       "      <th>16</th>\n",
       "      <td>fr</td>\n",
       "      <td>193</td>\n",
       "      <td>90</td>\n",
       "      <td>23</td>\n",
       "      <td>e</td>\n",
       "    </tr>\n",
       "    <tr>\n",
       "      <th>17</th>\n",
       "      <td>fr</td>\n",
       "      <td>187</td>\n",
       "      <td>80</td>\n",
       "      <td>27</td>\n",
       "      <td>e</td>\n",
       "    </tr>\n",
       "    <tr>\n",
       "      <th>18</th>\n",
       "      <td>fr</td>\n",
       "      <td>183</td>\n",
       "      <td>88</td>\n",
       "      <td>28</td>\n",
       "      <td>e</td>\n",
       "    </tr>\n",
       "    <tr>\n",
       "      <th>19</th>\n",
       "      <td>fr</td>\n",
       "      <td>159</td>\n",
       "      <td>40</td>\n",
       "      <td>29</td>\n",
       "      <td>k</td>\n",
       "    </tr>\n",
       "    <tr>\n",
       "      <th>20</th>\n",
       "      <td>fr</td>\n",
       "      <td>164</td>\n",
       "      <td>66</td>\n",
       "      <td>32</td>\n",
       "      <td>k</td>\n",
       "    </tr>\n",
       "    <tr>\n",
       "      <th>21</th>\n",
       "      <td>fr</td>\n",
       "      <td>166</td>\n",
       "      <td>56</td>\n",
       "      <td>42</td>\n",
       "      <td>k</td>\n",
       "    </tr>\n",
       "  </tbody>\n",
       "</table>\n",
       "</div>"
      ],
      "text/plain": [
       "   ulke  boy  kilo  yas cinsiyet\n",
       "0    tr  130    30   10        e\n",
       "1    tr  125    36   11        e\n",
       "2    tr  135    34   10        k\n",
       "3    tr  133    30    9        k\n",
       "4    tr  129    38   12        e\n",
       "5    tr  180    90   30        e\n",
       "6    tr  190    80   25        e\n",
       "7    tr  175    90   35        e\n",
       "8    tr  177    60   22        k\n",
       "9    us  185   105   33        e\n",
       "10   us  165    55   27        k\n",
       "11   us  155    50   44        k\n",
       "12   us  160    58   39        k\n",
       "13   us  162    59   41        k\n",
       "14   us  167    62   55        k\n",
       "15   fr  174    70   47        e\n",
       "16   fr  193    90   23        e\n",
       "17   fr  187    80   27        e\n",
       "18   fr  183    88   28        e\n",
       "19   fr  159    40   29        k\n",
       "20   fr  164    66   32        k\n",
       "21   fr  166    56   42        k"
      ]
     },
     "execution_count": 4,
     "metadata": {},
     "output_type": "execute_result"
    }
   ],
   "source": [
    "veriler"
   ]
  },
  {
   "cell_type": "code",
   "execution_count": 5,
   "id": "d4c5c2e6",
   "metadata": {},
   "outputs": [],
   "source": [
    "x=veriler.iloc[:,1:4].values\n",
    "y=veriler.iloc[:,4:].values"
   ]
  },
  {
   "cell_type": "code",
   "execution_count": 6,
   "id": "db850dd9",
   "metadata": {},
   "outputs": [
    {
     "data": {
      "text/plain": [
       "array([[130,  30,  10],\n",
       "       [125,  36,  11],\n",
       "       [135,  34,  10],\n",
       "       [133,  30,   9],\n",
       "       [129,  38,  12],\n",
       "       [180,  90,  30],\n",
       "       [190,  80,  25],\n",
       "       [175,  90,  35],\n",
       "       [177,  60,  22],\n",
       "       [185, 105,  33],\n",
       "       [165,  55,  27],\n",
       "       [155,  50,  44],\n",
       "       [160,  58,  39],\n",
       "       [162,  59,  41],\n",
       "       [167,  62,  55],\n",
       "       [174,  70,  47],\n",
       "       [193,  90,  23],\n",
       "       [187,  80,  27],\n",
       "       [183,  88,  28],\n",
       "       [159,  40,  29],\n",
       "       [164,  66,  32],\n",
       "       [166,  56,  42]], dtype=int64)"
      ]
     },
     "execution_count": 6,
     "metadata": {},
     "output_type": "execute_result"
    }
   ],
   "source": [
    "x"
   ]
  },
  {
   "cell_type": "code",
   "execution_count": 7,
   "id": "6583e6ed",
   "metadata": {},
   "outputs": [
    {
     "data": {
      "text/plain": [
       "array([['e'],\n",
       "       ['e'],\n",
       "       ['k'],\n",
       "       ['k'],\n",
       "       ['e'],\n",
       "       ['e'],\n",
       "       ['e'],\n",
       "       ['e'],\n",
       "       ['k'],\n",
       "       ['e'],\n",
       "       ['k'],\n",
       "       ['k'],\n",
       "       ['k'],\n",
       "       ['k'],\n",
       "       ['k'],\n",
       "       ['e'],\n",
       "       ['e'],\n",
       "       ['e'],\n",
       "       ['e'],\n",
       "       ['k'],\n",
       "       ['k'],\n",
       "       ['k']], dtype=object)"
      ]
     },
     "execution_count": 7,
     "metadata": {},
     "output_type": "execute_result"
    }
   ],
   "source": [
    "y"
   ]
  },
  {
   "cell_type": "code",
   "execution_count": 8,
   "id": "447133b3",
   "metadata": {},
   "outputs": [],
   "source": [
    "from sklearn.model_selection import train_test_split\n",
    "x_train,x_test,y_train,y_test=train_test_split(x,y,test_size=0.33,random_state=0)"
   ]
  },
  {
   "cell_type": "code",
   "execution_count": 9,
   "id": "0a934778",
   "metadata": {},
   "outputs": [],
   "source": [
    "from sklearn.preprocessing import StandardScaler\n",
    "\n",
    "sc=StandardScaler()\n",
    "\n",
    "X_train=sc.fit_transform(x_train)\n",
    "X_test=sc.transform(x_test)"
   ]
  },
  {
   "cell_type": "markdown",
   "id": "82d54578",
   "metadata": {},
   "source": [
    "# Logistic Regression"
   ]
  },
  {
   "cell_type": "code",
   "execution_count": 10,
   "id": "e87215e5",
   "metadata": {},
   "outputs": [
    {
     "data": {
      "text/plain": [
       "LogisticRegression(random_state=0)"
      ]
     },
     "execution_count": 10,
     "metadata": {},
     "output_type": "execute_result"
    }
   ],
   "source": [
    "from sklearn.linear_model import LogisticRegression\n",
    "\n",
    "log_reg=LogisticRegression(random_state=0)\n",
    "log_reg.fit(X_train,y_train.ravel())"
   ]
  },
  {
   "cell_type": "code",
   "execution_count": 11,
   "id": "d34a329e",
   "metadata": {},
   "outputs": [],
   "source": [
    "y_pred=log_reg.predict(X_test)"
   ]
  },
  {
   "cell_type": "code",
   "execution_count": 12,
   "id": "5bee9739",
   "metadata": {},
   "outputs": [
    {
     "data": {
      "text/plain": [
       "array(['e', 'e', 'e', 'e', 'k', 'e', 'e', 'e'], dtype=object)"
      ]
     },
     "execution_count": 12,
     "metadata": {},
     "output_type": "execute_result"
    }
   ],
   "source": [
    "y_pred"
   ]
  },
  {
   "cell_type": "markdown",
   "id": "7979763c",
   "metadata": {},
   "source": [
    "# Confusion Matrix"
   ]
  },
  {
   "cell_type": "code",
   "execution_count": 13,
   "id": "74cb72c3",
   "metadata": {},
   "outputs": [
    {
     "data": {
      "text/plain": [
       "array([[0, 1],\n",
       "       [7, 0]], dtype=int64)"
      ]
     },
     "execution_count": 13,
     "metadata": {},
     "output_type": "execute_result"
    }
   ],
   "source": [
    "from sklearn.metrics import confusion_matrix\n",
    "cm=confusion_matrix(y_test,y_pred)\n",
    "cm"
   ]
  },
  {
   "cell_type": "markdown",
   "id": "92e0efba",
   "metadata": {},
   "source": [
    "# KNN"
   ]
  },
  {
   "cell_type": "code",
   "execution_count": 18,
   "id": "292ec47e",
   "metadata": {},
   "outputs": [
    {
     "data": {
      "text/plain": [
       "array([[1, 0],\n",
       "       [1, 6]], dtype=int64)"
      ]
     },
     "execution_count": 18,
     "metadata": {},
     "output_type": "execute_result"
    }
   ],
   "source": [
    "from sklearn.neighbors import KNeighborsClassifier\n",
    "knn=KNeighborsClassifier(n_neighbors=1,metric='minkowski')\n",
    "\n",
    "knn.fit(X_train,y_train.ravel())\n",
    "y_pred=knn.predict(X_test)\n",
    "\n",
    "cm=confusion_matrix(y_test,y_pred)\n",
    "cm"
   ]
  }
 ],
 "metadata": {
  "kernelspec": {
   "display_name": "Python 3",
   "language": "python",
   "name": "python3"
  },
  "language_info": {
   "codemirror_mode": {
    "name": "ipython",
    "version": 3
   },
   "file_extension": ".py",
   "mimetype": "text/x-python",
   "name": "python",
   "nbconvert_exporter": "python",
   "pygments_lexer": "ipython3",
   "version": "3.8.8"
  }
 },
 "nbformat": 4,
 "nbformat_minor": 5
}
